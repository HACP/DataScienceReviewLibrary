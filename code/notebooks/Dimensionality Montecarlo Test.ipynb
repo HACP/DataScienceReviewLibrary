{
 "cells": [
  {
   "cell_type": "markdown",
   "id": "6d9b43ff",
   "metadata": {},
   "source": [
    "# Dimensionality d-ball volume and area Test Cases\n",
    "This notebook is an extension of the pytest file used in TDD. It shows the results of the following function(s) in the library\n",
    "\n",
    "- get_volume_ball_d_p\n",
    "- MC_volume_unit_ball_d_p"
   ]
  },
  {
   "cell_type": "code",
   "execution_count": null,
   "id": "f13eeb30",
   "metadata": {},
   "outputs": [],
   "source": [
    "from scipy.special import gamma\n",
    "import numpy as np\n",
    "import pylab as plt"
   ]
  },
  {
   "cell_type": "markdown",
   "id": "f3382e79",
   "metadata": {},
   "source": [
    "## Functions"
   ]
  },
  {
   "cell_type": "code",
   "execution_count": 48,
   "id": "c1503aa5",
   "metadata": {},
   "outputs": [],
   "source": [
    "def get_volume_ball_d_p(d, p, R):\n",
    "    \"\"\"\n",
    "    Computes the volume of the d-dimensional ball with radius R and p value.\n",
    "    Reference: https://www.whitman.edu/documents/Academics/Mathematics/2014/jorgenmd.pdf\n",
    "\n",
    "    Parameters:\n",
    "    d:  scalar\n",
    "        dimension\n",
    "    p:  scalar (p>=1)\n",
    "        p value of the p-norm.\n",
    "            p = 1, Manhattan\n",
    "            p = 2, Eucledian\n",
    "            p = np.inf, Max\n",
    "    R:  scalar\n",
    "        Radius of d-ball R >= 0\n",
    "\n",
    "    Returns:\n",
    "    volume:  scalar\n",
    "        exact value of the volume of n-ball\n",
    "    \"\"\"\n",
    "    return np.power(2*gamma(1./p +1),d)*np.power(R,d)/gamma(1.*d/p+1)"
   ]
  },
  {
   "cell_type": "code",
   "execution_count": 49,
   "id": "9230eb6d",
   "metadata": {},
   "outputs": [],
   "source": [
    "def MC_volume_unit_ball_d_p(d,p,N_iterations = 100):\n",
    "    \"\"\"\n",
    "     Estimates the volume of the d-dimensional ball with radius R and p value using a Monte Carlo method.\n",
    "     The idea is to find the ratio of uniformely distributed points in the d-cube that fall inside the\n",
    "     unit d-ball.\n",
    "     Reference:     # https://core.ac.uk/download/pdf/72843286.pdf\n",
    "\n",
    "     Parameters:\n",
    "     d:  scalar\n",
    "         dimension\n",
    "     p:  scalar (p>=1)\n",
    "         p value of the p-norm.\n",
    "         p = 1, Manhattan\n",
    "         p = 2, Eucledian\n",
    "         p = np.inf, Max\n",
    "     N_iterations: scalar\n",
    "        number of iterations in the MC\n",
    "\n",
    "     Returns:\n",
    "     ratio:  scalar\n",
    "         ratio of volume n-ball and n-cube\n",
    "     \"\"\"     \n",
    "    data = 2*(np.random.uniform(size=(N_iterations,d))-0.5)\n",
    "    norm_data = np.linalg.norm(data,ord=p,axis=1)\n",
    "    data_inside = np.sum((norm_data < 1)*1.)\n",
    "    ratio = data_inside/N_iterations\n",
    "    return(ratio)"
   ]
  },
  {
   "cell_type": "markdown",
   "id": "19ed13a1",
   "metadata": {},
   "source": [
    "## d-ball individual tests"
   ]
  },
  {
   "cell_type": "code",
   "execution_count": 51,
   "id": "d8290cf4",
   "metadata": {},
   "outputs": [
    {
     "data": {
      "text/plain": [
       "(0.785972, 0.7853981633974482)"
      ]
     },
     "execution_count": 51,
     "metadata": {},
     "output_type": "execute_result"
    }
   ],
   "source": [
    "# Estimating the volume of the 2-sphere (circle) and comparing to analytical value, Euclidean distance\n",
    "MC_volume_unit_ball_d_p(d=2,p=2,N_iterations = 1000000), get_volume_ball_d_p(d=2, p=2, R=1)/np.power(2,2)"
   ]
  },
  {
   "cell_type": "code",
   "execution_count": 52,
   "id": "da770b14",
   "metadata": {},
   "outputs": [
    {
     "data": {
      "text/plain": [
       "(0.8834872, 0.8833193751427245)"
      ]
     },
     "execution_count": 52,
     "metadata": {},
     "output_type": "execute_result"
    }
   ],
   "source": [
    "# Estimating the volume of the 2-sphere (circle) and comparing to analytical value, p=3\n",
    "MC_volume_unit_ball_d_p(d=2,p=3,N_iterations = 10000000), get_volume_ball_d_p(d=2, p=3, R=1)/np.power(2,2)"
   ]
  },
  {
   "cell_type": "code",
   "execution_count": 20,
   "id": "45183c46",
   "metadata": {},
   "outputs": [
    {
     "data": {
      "text/plain": [
       "(1.0, 1.0)"
      ]
     },
     "execution_count": 20,
     "metadata": {},
     "output_type": "execute_result"
    }
   ],
   "source": [
    "# Estimating the volume of the 2-sphere (circle) and comparing to analytical value, p=inf \n",
    "MC_volume_unit_ball_d_p(d=2,p=np.inf,N_iterations = 10000000), get_volume_ball_d_p(d=2, p=np.inf, R=1)/np.power(2,2)"
   ]
  },
  {
   "cell_type": "code",
   "execution_count": 22,
   "id": "790a32aa",
   "metadata": {},
   "outputs": [
    {
     "data": {
      "text/plain": [
       "(1.0, 1.0)"
      ]
     },
     "execution_count": 22,
     "metadata": {},
     "output_type": "execute_result"
    }
   ],
   "source": [
    "# Estimating the volume of the 20-sphere and comparing to analytical value, p=3\n",
    "MC_volume_unit_ball_d_p(d=20,p=np.inf,N_iterations = 10000000), get_volume_ball_d_p(d=20, p=np.inf, R=1)/np.power(2,20)"
   ]
  },
  {
   "cell_type": "markdown",
   "id": "56fa2ef7",
   "metadata": {},
   "source": [
    "Interesting. The ratio of the volumes for the d-ball and d-cube is one for all the p = inf cases. "
   ]
  },
  {
   "cell_type": "markdown",
   "id": "8147e00e",
   "metadata": {},
   "source": [
    "## Behavior of volume ratio d-ball and d-cube Test"
   ]
  },
  {
   "cell_type": "code",
   "execution_count": 53,
   "id": "4aa088ee",
   "metadata": {},
   "outputs": [],
   "source": [
    "# we compute the analytical value of the ratio as well as the MC simulation of several values of p\n",
    "lD = np.arange(1,10)\n",
    "lD_c = np.arange(1,10,0.1)\n",
    "lRatioBallCubeMC_p2 = [MC_volume_unit_ball_d_p(d=d,p=2,N_iterations = 1000000) for d in lD]\n",
    "lRatioBallCubeAnalytical_p2 = get_volume_ball_d_p(lD_c,p=2,R=1)/np.power(2,lD_c)"
   ]
  },
  {
   "cell_type": "code",
   "execution_count": 54,
   "id": "3b7e3ec0",
   "metadata": {},
   "outputs": [
    {
     "data": {
      "image/png": "[encoded data removed]",
      "text/plain": [
       "<Figure size 720x360 with 1 Axes>"
      ]
     },
     "metadata": {
      "needs_background": "light"
     },
     "output_type": "display_data"
    }
   ],
   "source": [
    "plt.figure(figsize=(10,5))\n",
    "plt.plot(lD_c,lRatioBallCubeAnalytical)\n",
    "plt.scatter(lD,lRatioBallCubeMC)\n",
    "plt.show()"
   ]
  },
  {
   "cell_type": "code",
   "execution_count": 36,
   "id": "2edd9710",
   "metadata": {},
   "outputs": [],
   "source": [
    "lRatioBallCubeMC_p3 = [MC_volume_unit_ball_d_p(d=d,p=3,N_iterations = 1000000) for d in lD]\n",
    "lRatioBallCubeAnalytical_p3 = get_volume_ball_d_p(lD_c,p=3,R=1)/np.power(2,lD_c)"
   ]
  },
  {
   "cell_type": "code",
   "execution_count": 37,
   "id": "ba6553bc",
   "metadata": {},
   "outputs": [],
   "source": [
    "lRatioBallCubeMC_p4 = [MC_volume_unit_ball_d_p(d=d,p=4,N_iterations = 1000000) for d in lD]\n",
    "lRatioBallCubeAnalytical_p4 = get_volume_ball_d_p(lD_c,p=4,R=1)/np.power(2,lD_c)"
   ]
  },
  {
   "cell_type": "code",
   "execution_count": 38,
   "id": "21a9a88a",
   "metadata": {},
   "outputs": [],
   "source": [
    "lRatioBallCubeMC_p1 = [MC_volume_unit_ball_d_p(d=d,p=1,N_iterations = 1000000) for d in lD]\n",
    "lRatioBallCubeAnalytical_p1 = get_volume_ball_d_p(lD_c,p=1,R=1)/np.power(2,lD_c)"
   ]
  },
  {
   "cell_type": "code",
   "execution_count": 39,
   "id": "5057a627",
   "metadata": {},
   "outputs": [],
   "source": [
    "lRatioBallCubeMC_pinf = [MC_volume_unit_ball_d_p(d=d,p=np.inf,N_iterations = 1000000) for d in lD]\n",
    "lRatioBallCubeAnalytical_pinf = get_volume_ball_d_p(lD_c,p=np.inf,R=1)/np.power(2,lD_c)"
   ]
  },
  {
   "cell_type": "code",
   "execution_count": 47,
   "id": "d8b26ec9",
   "metadata": {},
   "outputs": [
    {
     "data": {
      "image/png": "[encoded data removed]",
      "text/plain": [
       "<Figure size 720x360 with 1 Axes>"
      ]
     },
     "metadata": {
      "needs_background": "light"
     },
     "output_type": "display_data"
    }
   ],
   "source": [
    "plt.figure(figsize=(10,5))\n",
    "plt.plot(lD_c,lRatioBallCubeAnalytical_p1)\n",
    "plt.scatter(lD,lRatioBallCubeMC_p1,label='p=1')\n",
    "\n",
    "plt.plot(lD_c,lRatioBallCubeAnalytical_p2)\n",
    "plt.scatter(lD,lRatioBallCubeMC_p2,label='p=2')\n",
    "\n",
    "plt.plot(lD_c,lRatioBallCubeAnalytical_p3)\n",
    "plt.scatter(lD,lRatioBallCubeMC_p3,label='p=3')\n",
    "\n",
    "plt.plot(lD_c,lRatioBallCubeAnalytical_p4)\n",
    "plt.scatter(lD,lRatioBallCubeMC_p4,label='p=4')\n",
    "\n",
    "plt.plot(lD_c,lRatioBallCubeAnalytical_pinf)\n",
    "plt.scatter(lD,lRatioBallCubeMC_pinf,label='p=inf')\n",
    "\n",
    "plt.legend()\n",
    "\n",
    "plt.savefig('RatioVaolumeBallCube_d_p.png')"
   ]
  },
  {
   "cell_type": "code",
   "execution_count": null,
   "id": "9066d8e0",
   "metadata": {},
   "outputs": [],
   "source": []
  }
 ],
 "metadata": {
  "kernelspec": {
   "display_name": "Python 3 (ipykernel)",
   "language": "python",
   "name": "python3"
  },
  "language_info": {
   "codemirror_mode": {
    "name": "ipython",
    "version": 3
   },
   "file_extension": ".py",
   "mimetype": "text/x-python",
   "name": "python",
   "nbconvert_exporter": "python",
   "pygments_lexer": "ipython3",
   "version": "3.9.15"
  }
 },
 "nbformat": 4,
 "nbformat_minor": 5
}
