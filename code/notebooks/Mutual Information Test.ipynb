{
 "cells": [
  {
   "cell_type": "markdown",
   "id": "505dd7ec",
   "metadata": {},
   "source": [
    "# Mutual Information Test Cases\n",
    "This notebook is an extension of the pytest file used in TDD. It shows the results of two main functions in the library\n",
    "- get_entropy\n",
    "- get_mutual_information_mixed\n",
    "\n",
    "MAIN PENDING QUESTION - WHY I(X,X) is different from H(X) in the case of get_mutual_information_mixed"
   ]
  },
  {
   "cell_type": "code",
   "execution_count": 2,
   "id": "bbed25cf",
   "metadata": {},
   "outputs": [],
   "source": [
    "# importing same libraries\n",
    "import numpy as np\n",
    "from scipy.special import gamma, digamma\n",
    "from scipy.spatial import KDTree\n",
    "from scipy.stats import norm"
   ]
  },
  {
   "cell_type": "code",
   "execution_count": 1,
   "id": "bee00928",
   "metadata": {},
   "outputs": [],
   "source": [
    "# importing libraries to visualize results\n",
    "import pylab as plt\n",
    "import seaborn as sns"
   ]
  },
  {
   "cell_type": "markdown",
   "id": "2ab679a0",
   "metadata": {},
   "source": [
    "## Functions "
   ]
  },
  {
   "cell_type": "code",
   "execution_count": 7,
   "id": "765d0adf",
   "metadata": {},
   "outputs": [],
   "source": [
    "def get_log_volume_ball_d_p(D, d, p):\n",
    "    \"\"\"\n",
    "    Computes the log of the volume of a d-ball of diameter D, (d - dimension) in a p-InformationTheoryMetricsLib\n",
    "    Reference: https://en.wikipedia.org/wiki/Volume_of_an_n-ball#Balls_in_Lp_norms\n",
    "    NOTE: KSG definition of a unit ball MIGHT be diameter = 1.\n",
    "    Parameters:\n",
    "    D:  scalar\n",
    "        diameter\n",
    "    d:  scalar\n",
    "        dimension\n",
    "    p:  scalar\n",
    "        p-norm value\n",
    "    Returns:\n",
    "    log_vol:    scalar\n",
    "                logarithm of the d-ball, p-norm of diameter D\n",
    "    \"\"\"\n",
    "    return d*np.log(gamma(1./p + 1)) + d*np.log(D) - np.log(gamma(1.*d/p + 1))"
   ]
  },
  {
   "cell_type": "code",
   "execution_count": 3,
   "id": "74882272",
   "metadata": {},
   "outputs": [],
   "source": [
    "def get_entropy_continuous(x,p=2,k=1):\n",
    "    \"\"\"\n",
    "    Computes the estimated entropy for a continuous distribution following the\n",
    "    Kraskov, Stogbauer and Grassberger (KSG) method (PhysRevE.69.066138 - 2014)\n",
    "    Reference: https://journals.aps.org/pre/pdf/10.1103/PhysRevE.69.066138\n",
    "    Equation 20\n",
    "    Parameters:\n",
    "    x:  array-like\n",
    "        points in the distribution\n",
    "    p:  scalar (p>=1)\n",
    "        p value of the p-norm.\n",
    "            p = 1, Manhattan\n",
    "            p = 2, Eucledian\n",
    "            p = np.inf, Max\n",
    "    k:  scalar\n",
    "        k neighbor\n",
    "    Returns:\n",
    "    h:  scalar\n",
    "        Approximated entropy for the distribution\n",
    "    \"\"\"\n",
    "\n",
    "    if len(x.shape) == 2:\n",
    "        n, d = x.shape\n",
    "    else:\n",
    "        raise Exception(\"Input data set should be a 2-dimensional array\")\n",
    "\n",
    "    if p>=1:\n",
    "        log_c_d_p = get_log_volume_ball_d_p(1, d, p)\n",
    "    else:\n",
    "        #raise Exception(\"Input p must be p>=1\")\n",
    "        return('Nope')\n",
    "\n",
    "    tree = KDTree(x)\n",
    "    all_distances, indices = tree.query(x, k + 1, p=p)\n",
    "    distances_to_k_neighbor = all_distances[:,-1]\n",
    "\n",
    "    sum_log_distances_to_k_neighbor = np.sum(np.log(2*distances_to_k_neighbor))\n",
    "    h = -digamma(k) + digamma(n) + log_c_d_p + (1.*d/n) * sum_log_distances_to_k_neighbor\n",
    "\n",
    "    return(h)"
   ]
  },
  {
   "cell_type": "code",
   "execution_count": 4,
   "id": "8a603f25",
   "metadata": {},
   "outputs": [],
   "source": [
    "def get_mutual_information_mixed(x,y,p=2,k=1):\n",
    "    \"\"\"\n",
    "    Computes the estimated mutual information for two mixed distributions following the\n",
    "    Gao et al (2017)\n",
    "    Reference: https://proceedings.neurips.cc/paper/2017/file/ef72d53990bc4805684c9b61fa64a102-Paper.pdf\n",
    "    Algorithm 1\n",
    "    Parameters:\n",
    "    x:  array-like\n",
    "        points in the distribution, continous or discrete\n",
    "    y:  array-like\n",
    "        points in the distribution, continous or discrete\n",
    "    p:  scalar (p>=1)\n",
    "        p value of the p-norm.\n",
    "            p = 1, Manhattan\n",
    "            p = 2, Eucledian\n",
    "            p = np.inf, Max\n",
    "    k:  scalar\n",
    "        k neighbor\n",
    "    Returns:\n",
    "    mi:  scalar\n",
    "        Approximated mutual information for the two distributions\n",
    "    \"\"\"\n",
    "\n",
    "    # NOTE: do x,y need to be the same size?\n",
    "\n",
    "    if len(x.shape) == 2 and len(y.shape) == 2 and x.shape == y.shape:\n",
    "        n, d = x.shape\n",
    "    else:\n",
    "        raise Exception(\"Input data set should be a 2-dimensional array and same shape\")\n",
    "\n",
    "    if p>=1:\n",
    "        log_c_d_p = True #get_log_volume_ball_d_p(1, d, p)\n",
    "    else:\n",
    "        #raise Exception(\"Input p must be p>=1\")\n",
    "        return('Nope')\n",
    "\n",
    "    xy = np.c_[x,y]\n",
    "\n",
    "    tree_x = KDTree(x)\n",
    "    tree_y = KDTree(y)\n",
    "    tree_xy = KDTree(xy)\n",
    "\n",
    "    all_distances, indices = tree_xy.query(xy, k + 1, p=p)\n",
    "    radii = all_distances[:,-1]\n",
    "\n",
    "    lnx = np.zeros(n)\n",
    "    lny = np.zeros(n)\n",
    "    lk = np.zeros(n)\n",
    "\n",
    "    for i_dim in range(n):\n",
    "        if radii[i_dim] == 0:\n",
    "            lk[i_dim] = len(tree_xy.query_ball_point(tree_xy.data[i_dim], r=radii[i_dim], p=p)) - 1\n",
    "        else:\n",
    "            lk[i_dim] = k\n",
    "        lnx[i_dim] = len(tree_x.query_ball_point(tree_x.data[i_dim], r=radii[i_dim], p=p)) - 1\n",
    "        lny[i_dim] = len(tree_y.query_ball_point(tree_y.data[i_dim], r=radii[i_dim], p=p)) - 1\n",
    "\n",
    "    mi = np.mean(digamma(lk) + np.log(n) - np.log(lnx+1) - np.log(lny+1))\n",
    "\n",
    "    return(mi)"
   ]
  },
  {
   "cell_type": "code",
   "execution_count": 5,
   "id": "2185ac44",
   "metadata": {},
   "outputs": [],
   "source": [
    "def get_mutual_information_continuous(x,y,p=2,k=1,method='both'):\n",
    "    \"\"\"\n",
    "    Computes the estimated mutual information for two continuous distributions following the\n",
    "    Kraskov, Stogbauer and Grassberger (KSG) method (PhysRevE.69.066138 - 2014)\n",
    "    Reference: https://journals.aps.org/pre/pdf/10.1103/PhysRevE.69.066138\n",
    "    Method 1: Balls Equation 23\n",
    "    Method 2: Rectangle Equation 30\n",
    "    Parameters:\n",
    "    x:  array-like\n",
    "        points in the distribution, continuous\n",
    "    y:  array-like\n",
    "        points in the distribution, continuous\n",
    "    p:  scalar (p>=1)\n",
    "        p value of the p-norm.\n",
    "            p = 1, Manhattan\n",
    "            p = 2, Eucledian\n",
    "            p = np.inf, Max\n",
    "    k:  scalar\n",
    "        k neighbor\n",
    "    method: 'balls','rectangles' or 'both'\n",
    "    Returns:\n",
    "    mi:  scalar\n",
    "        Approximated mutual information for the two distributions\n",
    "    \"\"\"\n",
    "\n",
    "    # NOTE: do x,y need to be the same size?\n",
    "\n",
    "    if len(x.shape) == 2:\n",
    "        nx, dx = x.shape\n",
    "    if len(y.shape) == 2:\n",
    "        ny, dy = y.shape\n",
    "    else:\n",
    "        raise Exception(\"Input data set should be a 2-dimensional array\")\n",
    "\n",
    "    if p>=1:\n",
    "        log_c_d_p = get_log_volume_ball_d_p(1, dx, p)\n",
    "    else:\n",
    "        #raise Exception(\"Input p must be p>=1\")\n",
    "        return('Nope')\n",
    "\n",
    "    xy = np.c_[x,y]\n",
    "\n",
    "    tree_x = KDTree(x)\n",
    "    tree_y = KDTree(y)\n",
    "    tree_xy = KDTree(xy)\n",
    "\n",
    "    all_distances, indices = tree_xy.query(xy, k + 1, p=p)\n",
    "    radii = all_distances[:,-1]\n",
    "\n",
    "    lnx = np.zeros(nx)\n",
    "    lny = np.zeros(ny)\n",
    "\n",
    "    for i_dim in range(nx):\n",
    "        lnx[i_dim] = len(tree_x.query_ball_point(tree_x.data[i_dim], r=radii[i_dim], p=p)) - 1\n",
    "        lny[i_dim] = len(tree_y.query_ball_point(tree_y.data[i_dim], r=radii[i_dim], p=p)) - 1\n",
    "\n",
    "    mi_balls = digamma(k) - np.mean(digamma(lnx+1) + digamma(lny+1)) + digamma(nx)\n",
    "    mi_rectangles = digamma(k) -1./k - np.mean(digamma(lnx) + digamma(lny)) + digamma(nx)\n",
    "\n",
    "    if method == 'balls':\n",
    "        return(mi_balls)\n",
    "    if method == 'rectangles':\n",
    "        return(mi_rectangles)\n",
    "    if method == 'both':\n",
    "        return(np.mean([mi_balls,mi_rectangles]))\n",
    "    else:\n",
    "        #raise Exception(\"Method should be 'balls','rectangles' or 'both'\")\n",
    "        return('Nope')"
   ]
  },
  {
   "cell_type": "markdown",
   "id": "01491886",
   "metadata": {},
   "source": [
    "### Continuous Entropy Tests\n",
    "The fist test that we will work on is the normal distribution. We can compute the entropy analytically: \n",
    "H = 0.5*np.log(2*np.pi)+0.5)"
   ]
  },
  {
   "cell_type": "code",
   "execution_count": 8,
   "id": "b28cf577",
   "metadata": {},
   "outputs": [
    {
     "name": "stdout",
     "output_type": "stream",
     "text": [
      "1.4185569877349327 1.4189385332046727\n"
     ]
    }
   ],
   "source": [
    "# Test 1: Normal Distribution\n",
    "x = np.random.normal(size=(10000,1))\n",
    "print(get_entropy_continuous(x,p=np.inf,k=10), 0.5*np.log(2*np.pi)+0.5)"
   ]
  },
  {
   "cell_type": "code",
   "execution_count": 20,
   "id": "7899b472",
   "metadata": {},
   "outputs": [
    {
     "data": {
      "image/png": "[encoded data removed]",
      "text/plain": [
       "<Figure size 720x360 with 1 Axes>"
      ]
     },
     "metadata": {
      "needs_background": "light"
     },
     "output_type": "display_data"
    }
   ],
   "source": [
    "fig = plt.figure(figsize=(10,5))\n",
    "ax = sns.histplot(x, kde=False, stat='density', label='samples')\n",
    "\n",
    "# calculate the pdf\n",
    "x0, x1 = ax.get_xlim()  # extract the endpoints for the x-axis\n",
    "x_pdf = np.linspace(x0, x1, 100)\n",
    "y_pdf = norm.pdf(x_pdf)\n",
    "\n",
    "ax.plot(x_pdf, y_pdf, 'r', lw=2, label='pdf')                                                   \n",
    "ax.legend()\n",
    "ax.set_title('Entropy: Anallytical = ' + str(np.round(0.5*np.log(2*np.pi)+0.5,4)) + ', computational = ' + str(np.round(get_entropy_continuous(x,p=np.inf,k=10),4)))\n",
    "plt.show()"
   ]
  },
  {
   "cell_type": "code",
   "execution_count": 42,
   "id": "467d5b50",
   "metadata": {},
   "outputs": [
    {
     "name": "stderr",
     "output_type": "stream",
     "text": [
      "/usr/local/lib/python3.9/site-packages/numpy/core/_methods.py:232: RuntimeWarning: invalid value encountered in subtract\n",
      "  x = asanyarray(arr - arrmean)\n"
     ]
    },
    {
     "data": {
      "image/png": "[encoded data removed]",
      "text/plain": [
       "<Figure size 720x360 with 1 Axes>"
      ]
     },
     "metadata": {
      "needs_background": "light"
     },
     "output_type": "display_data"
    }
   ],
   "source": [
    "# Behavior of get_entropy_continuos as a function of the number of data points\n",
    "lEntropyGaussian = []\n",
    "lN = range(1,10000,100)\n",
    "lEntropyError = []\n",
    "lEntropyErrorBarr = []\n",
    "lNError = []\n",
    "for n in lN:\n",
    "    x = np.random.normal(size=(n,1))\n",
    "    lEntropyGaussian.append(get_entropy_continuous(x,p=np.inf,k=10))\n",
    "\n",
    "    if (n - 1) % 1000 == 0:\n",
    "        lEntropyErrorSim = []\n",
    "        lNError.append(n)\n",
    "        for _ in range(10):\n",
    "            lEntropyErrorSim.append(get_entropy_continuous(np.random.normal(size=(n,1)),p=np.inf,k=10))\n",
    "        lEntropyError.append(np.mean(lEntropyErrorSim))\n",
    "        lEntropyErrorBarr.append(np.std(lEntropyErrorSim))\n",
    "            \n",
    "fig = plt.figure(figsize=(10,5))\n",
    "#sns.scatterplot(lN, lEntropyGaussian)\n",
    "plt.scatter(lN, lEntropyGaussian,label='simulation')\n",
    "plt.plot([1,10000],[0.5*np.log(2*np.pi)+0.5,0.5*np.log(2*np.pi)+0.5],color='red',label='analytical')\n",
    "plt.xlabel('Number of points')\n",
    "plt.ylabel('Entropy')\n",
    "#plt.ylim([0,1.5])\n",
    "plt.errorbar(lNError, lEntropyError, yerr=lEntropyErrorBarr, xerr =None,color = 'k',ls='none',label='error bar')\n",
    "plt.legend()\n",
    "plt.show()"
   ]
  },
  {
   "cell_type": "code",
   "execution_count": 20,
   "id": "4f0ae2ed",
   "metadata": {},
   "outputs": [
    {
     "data": {
      "text/plain": [
       "-0.003553842521977008"
      ]
     },
     "execution_count": 20,
     "metadata": {},
     "output_type": "execute_result"
    }
   ],
   "source": [
    "mean = [0, 0]\n",
    "cov = [[1, 0], [0, 100]]\n",
    "NN = 50000\n",
    "x, y = np.random.multivariate_normal(mean, cov, NN).T\n",
    "get_mutual_information_mixed(x.reshape(NN,1),y.reshape(NN,1),p=np.inf,k=10)"
   ]
  },
  {
   "cell_type": "code",
   "execution_count": 24,
   "id": "f57169b5",
   "metadata": {},
   "outputs": [
    {
     "data": {
      "image/png": "[encoded data removed]",
      "text/plain": [
       "<Figure size 720x360 with 1 Axes>"
      ]
     },
     "metadata": {
      "needs_background": "light"
     },
     "output_type": "display_data"
    }
   ],
   "source": [
    "# Behavior of get_mutual_information_mixed as a function of the number of data points\n",
    "lMutualInformationGaussian = []\n",
    "lN = range(1,10000,10)\n",
    "for NN in lN:\n",
    "    mean = [0, 0]\n",
    "    cov = [[1, 3./5], [3./5, 1]]\n",
    "    x, y = np.random.multivariate_normal(mean, cov, NN).T\n",
    "    lMutualInformationGaussian.append(get_mutual_information_mixed(x.reshape(NN,1),y.reshape(NN,1),p=np.inf,k=10))\n",
    "fig = plt.figure(figsize=(10,5))\n",
    "plt.scatter(lN, lMutualInformationGaussian)\n",
    "plt.plot([1,10000],[-np.log(np.linalg.det(cov))/2,-np.log(np.linalg.det(cov))/2],color='red')\n",
    "plt.show()"
   ]
  },
  {
   "cell_type": "code",
   "execution_count": null,
   "id": "6acceb87",
   "metadata": {},
   "outputs": [],
   "source": []
  }
 ],
 "metadata": {
  "kernelspec": {
   "display_name": "Python 3 (ipykernel)",
   "language": "python",
   "name": "python3"
  },
  "language_info": {
   "codemirror_mode": {
    "name": "ipython",
    "version": 3
   },
   "file_extension": ".py",
   "mimetype": "text/x-python",
   "name": "python",
   "nbconvert_exporter": "python",
   "pygments_lexer": "ipython3",
   "version": "3.9.15"
  }
 },
 "nbformat": 4,
 "nbformat_minor": 5
}
