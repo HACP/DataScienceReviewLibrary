{
 "cells": [
  {
   "cell_type": "markdown",
   "id": "dc5efcc5",
   "metadata": {},
   "source": [
    "# Reinforcement Learning - Q learning Test Case\n",
    "This notebook is an extension of the pytest file used in TDD. It shows the results of the following function(s) in the library\n",
    "\n",
    "- train_model_RL_Q_ShortestPath\n",
    "\n",
    "Note: the algorithm finds the shortest path for small networks. if the connectivity increases, it starts overstimating \n",
    "the shortes path. Need to explore literature and other approaches."
   ]
  },
  {
   "cell_type": "markdown",
   "id": "6a80d17f",
   "metadata": {},
   "source": [
    "- https://gist.github.com/kastnerkyle/d127197dcfdd8fb888c2\n",
    "- https://nestedsoftware.com/2019/07/25/tic-tac-toe-with-tabular-q-learning-1kdn.139811.html\n",
    "- https://valohai.com/blog/reinforcement-learning-tutorial-part-1-q-learning/\n",
    "- https://amunategui.github.io/reinforcement-learning/index.html\n",
    "- https://link.springer.com/content/pdf/10.1007/BF00992698.pdf"
   ]
  },
  {
   "cell_type": "code",
   "execution_count": 1,
   "id": "2ca9d73c",
   "metadata": {},
   "outputs": [],
   "source": [
    "import networkx as nx\n",
    "import pylab as plt\n",
    "from matplotlib.animation import FuncAnimation\n",
    "import numpy as np"
   ]
  },
  {
   "cell_type": "code",
   "execution_count": 2,
   "id": "12e76020",
   "metadata": {},
   "outputs": [],
   "source": [
    "def get_network(nodes,k_neighbors,destination_node,prob):\n",
    "    \"\"\"\n",
    "    Initializes a random network using the small-world model\n",
    "    \n",
    "    Parameters:\n",
    "    nodes: scalat\n",
    "        number of nodes in the network\n",
    "    k_neighbors:  scalar\n",
    "        number of connections in each node\n",
    "    destination_node: scalar\n",
    "        index of node to be consider the destination of the paths\n",
    "    prob: scalar\n",
    "        probability of connection in the network\n",
    "        \n",
    "    Returns:\n",
    "    G: networkx object\n",
    "        Network\n",
    "        \n",
    "    Note - draws the network\n",
    "    \"\"\"\n",
    "    \n",
    "    G = nx.watts_strogatz_graph(nodes,k_neighbors,prob)\n",
    "    \n",
    "    node_color_list = np.array(['lightblue']*nodes)\n",
    "    node_color_list[destination_node] = 'green'\n",
    "    print(node_color_list)\n",
    "    \n",
    "    plt.figure(figsize=(8,8))\n",
    "    nx.draw(G, node_color=node_color_list, with_labels=True, node_size=500)\n",
    "    return(G)"
   ]
  },
  {
   "cell_type": "code",
   "execution_count": 92,
   "id": "2cc50278",
   "metadata": {},
   "outputs": [],
   "source": [
    "def get_reward_matrix(G,destination_node,destination_reward):\n",
    "    \"\"\"\n",
    "    Computes reward matrix. If there is no connection between two nodes, the reward is -1 (impossible). If tere is a \n",
    "    connection between the nodes, reward is 0. If the node is connected to the destination, the reward is assigned\n",
    "    TODO: vary the value of the reward. \n",
    "    \n",
    "    Parameters:\n",
    "    G: networkx obect\n",
    "        network\n",
    "    destination_node: scalar\n",
    "        index of node to be consider the destination of the paths\n",
    "    reward: scalar\n",
    "        reward of destination node and its neighbors\n",
    "        \n",
    "    Returns:\n",
    "    R: numpy array\n",
    "        reward matrix\n",
    "    \"\"\"\n",
    "    \n",
    "    AdjM = nx.to_numpy_array(G)\n",
    "    destination_neighbors = [n for n in G.neighbors(destination_node)]\n",
    "    R = AdjM - 1\n",
    "    R[destination_node,destination_node] = destination_reward\n",
    "    for node in destination_neighbors:\n",
    "        R[node,destination_node] = destination_reward\n",
    "    return(R)"
   ]
  },
  {
   "cell_type": "code",
   "execution_count": 4,
   "id": "78757566",
   "metadata": {},
   "outputs": [],
   "source": [
    "def initialize_Q(R,method='zero'):\n",
    "    \"\"\"\n",
    "    Initializes the Q-matrix. Two approaches a) all zeros and b) random numbers [0,1]\n",
    "    \n",
    "    Parameters:\n",
    "    R: numpy array\n",
    "        reward matrix\n",
    "    method:  string\n",
    "        method to populate Q:\n",
    "        'zero' - all zeros\n",
    "        'random' - random [0,1]\n",
    "      \n",
    "    Returns:\n",
    "    Q: numpy array\n",
    "        initial value of Q\n",
    "    \"\"\"\n",
    "    \n",
    "    if method == 'zero':\n",
    "        return(np.zeros_like(R))\n",
    "    if method == 'random':\n",
    "        return(np.random.rand(R.shape[0],r.shape[1]))"
   ]
  },
  {
   "cell_type": "code",
   "execution_count": 5,
   "id": "2bdc017d",
   "metadata": {},
   "outputs": [],
   "source": [
    "def update_Q(state,next_state,action,Q,R,alpha,gamma):\n",
    "    \"\"\"\n",
    "    Update the Q-matrix using Bellman's equation. \n",
    "    REferences:\n",
    "    - https://link.springer.com/content/pdf/10.1007/BF00992698.pdf Eq 1\n",
    "    - https://valohai.com/blog/reinforcement-learning-tutorial-part-1-q-learning/ \n",
    "    \n",
    "    Parameters:\n",
    "    state, next_state, action: scalars\n",
    "        the index of current state, next state and the action, respectively\n",
    "    Q: numpy array\n",
    "        Q matrix\n",
    "    R: numpy array\n",
    "        reward matrix\n",
    "    alpha, gamma: scalars\n",
    "        learning parameters\n",
    "      \n",
    "    Returns:\n",
    "    Q: numpy array\n",
    "        updated value of Q\n",
    "    reward: scalar\n",
    "        reward for (state,action)\n",
    "    score: scalar\n",
    "        normalized sum of Q\n",
    "    \"\"\"\n",
    "    \n",
    "    Q[state,action] = Q[state,action] + alpha*(R[state,action] + gamma*max(Q[next_state]) - Q[state,action])\n",
    "    normalization_factor = Q[state][Q[state] > 0] / np.sum(Q[state][Q[state] > 0])\n",
    "    Q[state][Q[state] > 0] = normalization_factor\n",
    "    \n",
    "    if (np.max(Q) > 0):\n",
    "        score = 100*np.sum(Q/np.max(Q))\n",
    "    else:\n",
    "        score = 0\n",
    "    reward = R[state, action]\n",
    "    return(Q, reward, score)"
   ]
  },
  {
   "cell_type": "code",
   "execution_count": 6,
   "id": "f1345480",
   "metadata": {},
   "outputs": [],
   "source": [
    "def get_available_states(state,R):\n",
    "    \"\"\"\n",
    "    finds avaliable states for a given state. By definition, this corresponds to values in R[state] with non-negative \n",
    "    values\n",
    "    \n",
    "    Parameters:\n",
    "    state: scalar\n",
    "        index of current state\n",
    "    R: numpy array\n",
    "        reward matrix\n",
    "      \n",
    "    Returns:\n",
    "    available_states: numpy array\n",
    "        list of accesible states from current state\n",
    "    \"\"\"\n",
    "    available_states = np.arange(len(R))[R[state]>=0]\n",
    "    return(available_states)"
   ]
  },
  {
   "cell_type": "code",
   "execution_count": 7,
   "id": "e4bd7cdb",
   "metadata": {},
   "outputs": [],
   "source": [
    "def get_random_available_state(state,R):\n",
    "    \"\"\"\n",
    "    selects a random states from avaliable states for a given state. \n",
    "    \n",
    "    Parameters:\n",
    "    state: scalar\n",
    "        index of current state\n",
    "    R: numpy array\n",
    "        reward matrix\n",
    "      \n",
    "    Returns:\n",
    "    random_state: scalar\n",
    "        random index from accesible states from current state\n",
    "    \"\"\"\n",
    "    available_states = get_available_states(state,R)\n",
    "    np.random.shuffle(available_states)\n",
    "    random_state = available_states[0]\n",
    "    return(random_state)"
   ]
  },
  {
   "cell_type": "code",
   "execution_count": 93,
   "id": "ada9dbd0",
   "metadata": {},
   "outputs": [],
   "source": [
    "def get_best_available_state(state,R,Q):\n",
    "    \"\"\"\n",
    "    selects state with highest Q value from avaliable states for a given state. \n",
    "    \n",
    "    Parameters:\n",
    "    state: scalar\n",
    "        index of current state\n",
    "    Q: numpy array\n",
    "        Q matrix\n",
    "    R: numpy array\n",
    "        reward matrix\n",
    "    \n",
    "    Returns:\n",
    "    best_state: scalar\n",
    "        index from highest Q state from accesible states from current state\n",
    "        \n",
    "    TODO: revisit definitions, notation and language\n",
    "    \"\"\"\n",
    "    \n",
    "    if np.sum(Q[state]) > 0:\n",
    "        best_state = np.argmax(Q[state])\n",
    "    else:\n",
    "        best_state = get_random_available_state(state,R)\n",
    "    return(action)"
   ]
  },
  {
   "cell_type": "code",
   "execution_count": 9,
   "id": "6296ae47",
   "metadata": {},
   "outputs": [],
   "source": [
    "def show_paths(Q,destination_node):\n",
    "    \"\"\"\n",
    "    prints shortest paths from all nodes to destination nodes \n",
    "    \n",
    "    Parameters:\n",
    "    Q: numpy array\n",
    "        Q matrix\n",
    "    destination_node: scalar\n",
    "        index of destination node\n",
    "    \n",
    "    Returns:\n",
    "    lLenght: list\n",
    "        list of length of shortest paths\n",
    "    \n",
    "    Note: prints the paths\n",
    "        \n",
    "    TODO: revisit performance for arbitrary networks\n",
    "    \"\"\"\n",
    "    lLength = []\n",
    "    # show all the greedy traversals\n",
    "    for ii in range(len(Q)):\n",
    "        state = ii\n",
    "        path_list = [ii]\n",
    "        path_string = str(state) + \" -> \"\n",
    "        while state != destination_node and len(np.unique(path_list))==len(path_list):\n",
    "            next_state = np.argmax(Q[state])\n",
    "            state = next_state\n",
    "            path_string = path_string + str(state) + \" -> \" \n",
    "            path_list.append(state)\n",
    "\n",
    "        print(path_string[:-4])\n",
    "        print(\"\")\n",
    "        lLength.append(path_list)\n",
    "    return(lLength)"
   ]
  },
  {
   "cell_type": "code",
   "execution_count": 10,
   "id": "f049e7a6",
   "metadata": {},
   "outputs": [
    {
     "name": "stdout",
     "output_type": "stream",
     "text": [
      "['lightblue' 'lightblue' 'lightblue' 'lightblue' 'lightblue' 'green'\n",
      " 'lightblue' 'lightblue']\n"
     ]
    },
    {
     "data": {
      "image/png": "[encoded data removed]",
      "text/plain": [
       "<Figure size 576x576 with 1 Axes>"
      ]
     },
     "metadata": {},
     "output_type": "display_data"
    }
   ],
   "source": [
    "nodes = 8\n",
    "destination_node = 5\n",
    "destination_reward = 100\n",
    "G = get_network(nodes,3,destination_node,0.1)\n",
    "R = get_reward_matrix(G,destination_node,destination_reward)\n",
    "Q = initialize_Q(R,'zero') \n",
    "states = np.arange(nodes)"
   ]
  },
  {
   "cell_type": "code",
   "execution_count": 11,
   "id": "8ae7767b",
   "metadata": {},
   "outputs": [],
   "source": [
    "alpha = 1\n",
    "gamma = 0.8\n",
    "lScore = [0]\n",
    "eps = 0.05\n",
    "early_stop = False\n",
    "early_stop_eps = 0.0001\n",
    "for _ in range(200):\n",
    "#while early_stop == False:\n",
    "    np.random.shuffle(states)\n",
    "    current_state = states[0]\n",
    "\n",
    "    reached_goal = False\n",
    "    while reached_goal == False:\n",
    "        if np.random.rand() < eps:\n",
    "            next_state = get_random_available_state(current_state,R)\n",
    "            action = next_state\n",
    "        else:\n",
    "            next_state = get_best_available_state(current_state,R,Q)\n",
    "            action = next_state\n",
    "        Q0 = np.copy(Q)\n",
    "        Q,reward, score = update_Q(current_state,next_state,action,Q,R,alpha,gamma)\n",
    "                \n",
    "        if reward > 1:\n",
    "            reached_goal = True\n",
    "        current_state = next_state\n",
    "    \n",
    "    lScore.append(score)\n",
    "        \n",
    "    if len(lScore) > 50 and max(lScore[-50:]) - min(lScore[-50:]) < early_stop_eps:\n",
    "        break\n",
    "    "
   ]
  },
  {
   "cell_type": "code",
   "execution_count": 12,
   "id": "a59c60c4",
   "metadata": {},
   "outputs": [
    {
     "data": {
      "text/plain": [
       "<matplotlib.image.AxesImage at 0x10c9ab430>"
      ]
     },
     "execution_count": 12,
     "metadata": {},
     "output_type": "execute_result"
    },
    {
     "data": {
      "image/png": "[encoded data removed]",
      "text/plain": [
       "<Figure size 432x288 with 1 Axes>"
      ]
     },
     "metadata": {
      "needs_background": "light"
     },
     "output_type": "display_data"
    }
   ],
   "source": [
    "# visualization of Q matrix\n",
    "plt.imshow(Q)"
   ]
  },
  {
   "cell_type": "code",
   "execution_count": 13,
   "id": "37ed9a24",
   "metadata": {},
   "outputs": [
    {
     "data": {
      "text/plain": [
       "[<matplotlib.lines.Line2D at 0x10c89deb0>]"
      ]
     },
     "execution_count": 13,
     "metadata": {},
     "output_type": "execute_result"
    },
    {
     "data": {
      "image/png": "[encoded data removed]",
      "text/plain": [
       "<Figure size 432x288 with 1 Axes>"
      ]
     },
     "metadata": {
      "needs_background": "light"
     },
     "output_type": "display_data"
    }
   ],
   "source": [
    "# evolution of the score. \n",
    "plt.plot(lScore)"
   ]
  },
  {
   "cell_type": "code",
   "execution_count": 14,
   "id": "ff474e13",
   "metadata": {},
   "outputs": [
    {
     "name": "stdout",
     "output_type": "stream",
     "text": [
      "0 -> 7 -> 6 -> 5\n",
      "\n",
      "1 -> 0 -> 7 -> 6 -> 5\n",
      "\n",
      "2 -> 4 -> 5\n",
      "\n",
      "3 -> 4 -> 5\n",
      "\n",
      "4 -> 5\n",
      "\n",
      "5\n",
      "\n",
      "6 -> 5\n",
      "\n",
      "7 -> 6 -> 5\n",
      "\n"
     ]
    },
    {
     "data": {
      "text/plain": [
       "[[0, 7, 6, 5],\n",
       " [1, 0, 7, 6, 5],\n",
       " [2, 4, 5],\n",
       " [3, 4, 5],\n",
       " [4, 5],\n",
       " [5],\n",
       " [6, 5],\n",
       " [7, 6, 5]]"
      ]
     },
     "execution_count": 14,
     "metadata": {},
     "output_type": "execute_result"
    }
   ],
   "source": [
    "# list of paths\n",
    "show_paths(Q,destination_node=5)"
   ]
  },
  {
   "cell_type": "code",
   "execution_count": 15,
   "id": "13504baf",
   "metadata": {},
   "outputs": [],
   "source": [
    "def train_model_RL_Q(Q,R,alpha=1,gamma=1,eps=0.05,early_stop_eps=0.00001,N_iterations=2000):\n",
    "    \"\"\"\n",
    "    Trains the RL Q-learning model with a greedy step, and eary stopping.\n",
    "    \n",
    "    Parameters:\n",
    "    Q: numpy array\n",
    "        Q matrix\n",
    "    R: numpy array\n",
    "        reward matrix\n",
    "    alpha, gamma: scalars\n",
    "        learning parameters\n",
    "    eps: scalar \n",
    "        threshold used for greedy search\n",
    "    early_stop_eps: scalar\n",
    "        threshold used to stop early: if there is no major change in the score, stop itertion\n",
    "    N_iterations: scalar\n",
    "        number of iterations\n",
    "    \n",
    "    Returns:\n",
    "    Q: numpy array\n",
    "        final value of Q\n",
    "    lScore: list\n",
    "        list of scores for each iteration\n",
    "        \n",
    "    TODO: revisit definitions, notation and language\n",
    "    \"\"\"\n",
    "    \n",
    "    states = np.arange(len(Q))\n",
    "    \n",
    "    lScore = [0]\n",
    "    early_stop = False\n",
    "    \n",
    "    for kk in range(N_iterations):\n",
    "        #print(kk)\n",
    "        np.random.shuffle(states)\n",
    "        current_state = states[0]\n",
    "\n",
    "        reached_goal = False\n",
    "        while reached_goal == False:\n",
    "            if np.random.rand() < eps:\n",
    "                next_state = get_random_available_state(current_state,R)\n",
    "                action = next_state\n",
    "            else:\n",
    "                next_state = get_best_available_state(current_state,R,Q)\n",
    "                action = next_state\n",
    "            Q,reward, score = update_Q(current_state,next_state,action,Q,R,alpha,gamma)\n",
    "\n",
    "            if reward > 1:\n",
    "                reached_goal = True\n",
    "            current_state = next_state\n",
    "\n",
    "        lScore.append(score)\n",
    "\n",
    "        if len(lScore) > 50 and max(lScore[-50:]) - min(lScore[-50:]) < early_stop_eps:\n",
    "            return(Q,lScore)\n",
    "\n",
    "            \n",
    "    return(Q,lScore)\n"
   ]
  },
  {
   "cell_type": "code",
   "execution_count": 16,
   "id": "cb960c3f",
   "metadata": {},
   "outputs": [
    {
     "name": "stdout",
     "output_type": "stream",
     "text": [
      "['lightblue' 'lightblue' 'lightblue' 'lightblue' 'lightblue' 'green'\n",
      " 'lightblue' 'lightblue' 'lightblue' 'lightblue']\n"
     ]
    },
    {
     "data": {
      "image/png": "[encoded data removed]",
      "text/plain": [
       "<Figure size 576x576 with 1 Axes>"
      ]
     },
     "metadata": {},
     "output_type": "display_data"
    }
   ],
   "source": [
    "nodes = 10\n",
    "destination_node = 5\n",
    "destination_reward = 100\n",
    "G = get_network(nodes,3,destination_node,0.1)\n",
    "R = get_reward_matrix(G,destination_node,destination_reward)\n",
    "Q = initialize_Q(R,'zero') "
   ]
  },
  {
   "cell_type": "code",
   "execution_count": 17,
   "id": "9d9f413b",
   "metadata": {},
   "outputs": [],
   "source": [
    "Q,lScore = train_model_RL_Q(Q,R)"
   ]
  },
  {
   "cell_type": "code",
   "execution_count": 18,
   "id": "3d890d3f",
   "metadata": {},
   "outputs": [
    {
     "data": {
      "text/plain": [
       "<matplotlib.image.AxesImage at 0x10cab57f0>"
      ]
     },
     "execution_count": 18,
     "metadata": {},
     "output_type": "execute_result"
    },
    {
     "data": {
      "image/png": "[encoded data removed]",
      "text/plain": [
       "<Figure size 432x288 with 1 Axes>"
      ]
     },
     "metadata": {
      "needs_background": "light"
     },
     "output_type": "display_data"
    }
   ],
   "source": [
    "plt.imshow(Q)"
   ]
  },
  {
   "cell_type": "code",
   "execution_count": 19,
   "id": "35762c8e",
   "metadata": {},
   "outputs": [
    {
     "name": "stdout",
     "output_type": "stream",
     "text": [
      "0 -> 1 -> 2 -> 3 -> 4 -> 5\n",
      "\n",
      "1 -> 2 -> 3 -> 4 -> 5\n",
      "\n",
      "2 -> 3 -> 4 -> 5\n",
      "\n",
      "3 -> 4 -> 5\n",
      "\n",
      "4 -> 5\n",
      "\n",
      "5\n",
      "\n",
      "6 -> 5\n",
      "\n",
      "7 -> 6 -> 5\n",
      "\n",
      "8 -> 7 -> 6 -> 5\n",
      "\n",
      "9 -> 0 -> 1 -> 2 -> 3 -> 4 -> 5\n",
      "\n"
     ]
    }
   ],
   "source": [
    "lLength = show_paths(Q,destination_node=5)"
   ]
  },
  {
   "cell_type": "code",
   "execution_count": 20,
   "id": "6e5a7254",
   "metadata": {},
   "outputs": [
    {
     "name": "stdout",
     "output_type": "stream",
     "text": [
      "[0, 1, 2, 3, 4, 5] [0, 1, 2, 3, 4, 5]\n",
      "[1, 2, 3, 4, 5] [1, 2, 3, 4, 5]\n",
      "[2, 3, 4, 5] [2, 3, 4, 5]\n",
      "[3, 4, 5] [3, 4, 5]\n",
      "[4, 5] [4, 5]\n",
      "[5] [5]\n",
      "[6, 5] [6, 5]\n",
      "[7, 6, 5] [7, 6, 5]\n",
      "[8, 7, 6, 5] [8, 7, 6, 5]\n",
      "[9, 0, 1, 2, 3, 4, 5] [9, 0, 1, 2, 3, 4, 5]\n",
      "0.0\n"
     ]
    }
   ],
   "source": [
    "# testing error in shortest path length vs networkx algorithm\n",
    "Error = 0\n",
    "for ii in range(len(Q)):\n",
    "    if len(nx.shortest_path(G, source=ii, target=5)) != len(lLength[ii]):\n",
    "        Error = Error + 1\n",
    "        print('*',nx.shortest_path(G, source=ii, target=5),lLength[ii])\n",
    "    else:\n",
    "        print(nx.shortest_path(G, source=ii, target=5),lLength[ii])\n",
    "print(Error/len(Q))"
   ]
  },
  {
   "cell_type": "code",
   "execution_count": 85,
   "id": "2b3e593b",
   "metadata": {},
   "outputs": [],
   "source": [
    "def train_model_RL_Q_animation(Q,R,alpha=1,gamma=1,eps=0.05,early_stop_eps=0.00001,N_iterations=50,animation_type='q'):\n",
    "    \"\"\"\n",
    "    Trains the RL Q-learning model with a greedy step, and eary stopping.\n",
    "    \n",
    "    Parameters:\n",
    "    Q: numpy array\n",
    "        Q matrix\n",
    "    R: numpy array\n",
    "        reward matrix\n",
    "    alpha, gamma: scalars\n",
    "        learning parameters\n",
    "    eps: scalar \n",
    "        threshold used for greedy search\n",
    "    early_stop_eps: scalar\n",
    "        threshold used to stop early: if there is no major change in the score, stop itertion\n",
    "    N_iterations: scalar\n",
    "        number of iterations\n",
    "    animation_type: string\n",
    "        type of animation\n",
    "        animation_type = 'q'   ... just the Q matrix\n",
    "        animation_type = 'qs'  ... just the Q matrix and the score\n",
    "        animation_type = 'qsn' ... just the Q matrix, the score and the network\n",
    "        \n",
    "    Returns:\n",
    "    Q: numpy array\n",
    "        final value of Q\n",
    "    lScore: list\n",
    "        list of scores for each iteration\n",
    "    lQ: list of numpy arrays\n",
    "        list of Q for each iteration\n",
    "    \n",
    "    Note: generates and saves an animation (gif format) based on type of animation\n",
    "        \n",
    "    TODO: revisit definitions, notation and language\n",
    "    \"\"\"\n",
    "\n",
    "    \n",
    "    lQ = []\n",
    "    states = np.arange(len(Q))\n",
    "    \n",
    "    lScore = [0]\n",
    "    early_stop = False\n",
    "    \n",
    "    for kk in range(N_iterations):\n",
    "        #print(Q)\n",
    "        np.random.shuffle(states)\n",
    "        current_state = states[0]\n",
    "\n",
    "        reached_goal = False\n",
    "        while reached_goal == False:\n",
    "            if np.random.rand() < eps:\n",
    "                next_state = get_random_available_state(current_state,R)\n",
    "                action = next_state\n",
    "            else:\n",
    "                next_state = get_best_available_state(current_state,R,Q)\n",
    "                action = next_state\n",
    "            Q,reward, score = update_Q(current_state,next_state,action,Q,R,alpha,gamma)\n",
    "\n",
    "            if reward > 1:\n",
    "                reached_goal = True\n",
    "            current_state = next_state\n",
    "\n",
    "        lScore.append(score)\n",
    "        #print(np.sum(Q))\n",
    "        lQ.append(np.copy(Q))\n",
    "\n",
    "        #if len(lScore) > 50 and max(lScore[-50:]) - min(lScore[-50:]) < early_stop_eps:\n",
    "        #    return(Q,lScore)\n",
    "\n",
    "    if animation_type == 'q': \n",
    "        fig, ax = plt.subplots()\n",
    "        nnx = len(Q)\n",
    "        nny = len(Q)\n",
    "\n",
    "        line2d, = ax.plot([], [], lw=2)\n",
    "\n",
    "        def init():\n",
    "            line2d.set_data([], [])\n",
    "            ax.imshow(np.zeros((nnx, nny)))\n",
    "            return (line2d,)\n",
    "\n",
    "        def animate(i):\n",
    "            data = lQ[i]\n",
    "            ax.set_title('i: ' + str(i))    \n",
    "            ax.imshow(data)\n",
    "            return (line2d,)\n",
    "\n",
    "        anim = FuncAnimation(fig, animate, init_func=init, frames=len(lQ), interval=100, blit=False)\n",
    "        anim.save(\"Q_evolution.gif\", dpi=120, writer=\"imagemagick\")\n",
    "    \n",
    "    if animation_type == 'qsn':\n",
    "\n",
    "        fig, axs = plt.subplots(1,3,figsize=(30,10))\n",
    "        nnx = len(Q)\n",
    "        nny = len(Q)\n",
    "\n",
    "        line2dA, = axs[0].plot([], [], lw=2)\n",
    "        line2dB, = axs[1].plot([], [], lw=2)\n",
    "        line2dC, = axs[2].plot([], [], lw=2)\n",
    "\n",
    "\n",
    "        line = [line2dA, line2dB, line2dC]\n",
    "\n",
    "\n",
    "        def animate3(i):\n",
    "            data = lQ[i]\n",
    "            axs[0].imshow(data)\n",
    "            axs[1].plot(lScore[:i])\n",
    "            axs[1].set_xlim([0,len(lScore)])\n",
    "            axs[1].set_ylim([0,1.1*max(lScore)])\n",
    "            my_pos = nx.spring_layout(G, seed = 100)\n",
    "            #nx.draw(G, pos = my_pos, with_labels=True, node_color='orange', node_size=400, edge_color='black', linewidths=1, font_size=15)\n",
    "            nx.draw(G, pos = my_pos, node_color=np.sum(data,axis=0), with_labels=True, node_size=500, ax=axs[2])\n",
    "            return(line)\n",
    "\n",
    "        anim3 = FuncAnimation(fig, animate3, frames=len(lQ), interval=100, blit=False)\n",
    "        anim3.save(\"Q_evolution_network.gif\", dpi=120, writer=\"imagemagick\")\n",
    "    \n",
    "    if animation_type == 'qs':\n",
    "        fig, axs = plt.subplots(1,2)\n",
    "        nnx = len(Q)\n",
    "        nny = len(Q)\n",
    "\n",
    "        line2dA, = axs[0].plot([], [], lw=2)\n",
    "        line2dB, = axs[1].plot([], [], lw=2)\n",
    "\n",
    "        line = [line2dA, line2dB]\n",
    "\n",
    "\n",
    "        def animate2(i):\n",
    "            data = lQ[i]\n",
    "            axs[0].imshow(data)\n",
    "            axs[1].plot(lScore[:i])\n",
    "            axs[1].set_xlim([0,len(lScore)])\n",
    "            axs[1].set_ylim([0,1.1*max(lScore)])\n",
    "            return(line)\n",
    "\n",
    "        anim2 = FuncAnimation(fig, animate2, frames=len(lQ), interval=100, blit=False)\n",
    "        anim2.save(\"Q_evolution_score.gif\", dpi=120, writer=\"imagemagick\")\n",
    "    \n",
    "    \n",
    "    return(Q,lScore,lQ)\n"
   ]
  },
  {
   "cell_type": "code",
   "execution_count": 90,
   "id": "fb509c7e",
   "metadata": {},
   "outputs": [
    {
     "name": "stdout",
     "output_type": "stream",
     "text": [
      "['lightblue' 'lightblue' 'lightblue' 'lightblue' 'lightblue' 'green'\n",
      " 'lightblue' 'lightblue' 'lightblue' 'lightblue']\n"
     ]
    },
    {
     "data": {
      "image/png": "[encoded data removed]",
      "text/plain": [
       "<Figure size 576x576 with 1 Axes>"
      ]
     },
     "metadata": {},
     "output_type": "display_data"
    }
   ],
   "source": [
    "nodes = 10\n",
    "destination_node = 5\n",
    "destination_reward = 100\n",
    "G = get_network(nodes,3,destination_node,0.1)\n",
    "R = get_reward_matrix(G,destination_node,destination_reward)\n",
    "Q = initialize_Q(R,'zero')"
   ]
  },
  {
   "cell_type": "code",
   "execution_count": 91,
   "id": "4566cd6e",
   "metadata": {},
   "outputs": [
    {
     "data": {
      "image/png": "[encoded data removed]",
      "text/plain": [
       "<Figure size 2160x720 with 3 Axes>"
      ]
     },
     "metadata": {},
     "output_type": "display_data"
    }
   ],
   "source": [
    "Q,lScore,lQ = train_model_RL_Q_animation(Q,R,animation_type='qsn')"
   ]
  },
  {
   "cell_type": "code",
   "execution_count": 84,
   "id": "44072c22",
   "metadata": {},
   "outputs": [
    {
     "data": {
      "text/plain": [
       "array([0.        , 1.        , 1.        , 0.        , 1.        ,\n",
       "       2.99995214, 0.93623831, 1.00004786, 1.06376169, 1.        ])"
      ]
     },
     "execution_count": 84,
     "metadata": {},
     "output_type": "execute_result"
    }
   ],
   "source": [
    "np.sum(Q,axis=0)"
   ]
  },
  {
   "cell_type": "code",
   "execution_count": 40,
   "id": "ae28ee6b",
   "metadata": {},
   "outputs": [
    {
     "data": {
      "image/png": "[encoded data removed]",
      "text/plain": [
       "<Figure size 432x288 with 1 Axes>"
      ]
     },
     "metadata": {},
     "output_type": "display_data"
    }
   ],
   "source": [
    "nx.draw(G)"
   ]
  },
  {
   "cell_type": "code",
   "execution_count": null,
   "id": "12bae43b",
   "metadata": {},
   "outputs": [],
   "source": [
    "Q."
   ]
  }
 ],
 "metadata": {
  "kernelspec": {
   "display_name": "Python 3 (ipykernel)",
   "language": "python",
   "name": "python3"
  },
  "language_info": {
   "codemirror_mode": {
    "name": "ipython",
    "version": 3
   },
   "file_extension": ".py",
   "mimetype": "text/x-python",
   "name": "python",
   "nbconvert_exporter": "python",
   "pygments_lexer": "ipython3",
   "version": "3.9.15"
  }
 },
 "nbformat": 4,
 "nbformat_minor": 5
}
